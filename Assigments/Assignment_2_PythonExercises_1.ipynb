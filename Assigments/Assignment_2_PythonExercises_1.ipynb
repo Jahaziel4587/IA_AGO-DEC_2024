{
  "nbformat": 4,
  "nbformat_minor": 0,
  "metadata": {
    "colab": {
      "provenance": []
    },
    "kernelspec": {
      "name": "python3",
      "display_name": "Python 3"
    },
    "language_info": {
      "name": "python"
    }
  },
  "cells": [
    {
      "cell_type": "markdown",
      "source": [
        "Text Analysis Tool: Create a Python program that reads a text file and performs various analyses on its content. The program should: Count the number of words, sentences, and paragraphs. Calculate the average word length. Identify the most common words and their frequencies."
      ],
      "metadata": {
        "id": "zjFsFA4njUdy"
      }
    },
    {
      "cell_type": "code",
      "source": [
        "with open('Cuento.txt', 'r') as file:\n",
        "    content = file.read()\n",
        "\n",
        "    # Counting the number of words in the content\n",
        "    num_words = len(content.split())\n",
        "\n",
        "    # Counting the number of paragraphs in the content\n",
        "    num_paragraphs = content.count('\\n\\n') + 1\n",
        "\n",
        "    # Counting the number of sentences in the content\n",
        "    num_sentences = len(content.split('.')) - 1\n",
        "\n",
        "    # Calculating the average word length\n",
        "    word_list = content.split()\n",
        "    total_length_words = sum(len(word) for word in word_list)\n",
        "    avg_word_length = total_length_words / num_words\n",
        "\n",
        "    # Identifying the most frequent words and their counts\n",
        "    word_counts = {}\n",
        "    for word in word_list:\n",
        "        word_counts[word] = word_counts.get(word, 0) + 1\n",
        "\n",
        "    # Storing the words with the highest frequency\n",
        "    # 'top_words' contains all the frequencies\n",
        "    top_n = 5\n",
        "    top_words = sorted(word_counts.items(), key=lambda x: x[1], reverse=True)[:top_n]\n",
        "\n",
        "    print('Text Analysis Tool\\n')\n",
        "    print('Number of words: ', num_words)\n",
        "    print('Number of sentences: ', num_sentences)\n",
        "    print('Number of paragraphs: ', num_paragraphs)\n",
        "    print(\"Average word length: %.2f\" % (avg_word_length))\n",
        "    print('Most common words:')\n",
        "    for word, count in top_words:\n",
        "            print(f\"  '{word}' --> {count} times in the text\")\n",
        "\n",
        "file_handle.close()"
      ],
      "metadata": {
        "colab": {
          "base_uri": "https://localhost:8080/"
        },
        "id": "rvpEaMVGgAYL",
        "outputId": "c3984ae5-a720-47ca-f8f1-fdaa0cbfaa1e"
      },
      "execution_count": 8,
      "outputs": [
        {
          "output_type": "stream",
          "name": "stdout",
          "text": [
            "Text Analysis Tool\n",
            "\n",
            "Number of words:  398\n",
            "Number of sentences:  32\n",
            "Number of paragraphs:  1\n",
            "Average word length: 4.71\n",
            "Most common words:\n",
            "  'un' --> 14 times in the text\n",
            "  'el' --> 14 times in the text\n",
            "  'de' --> 13 times in the text\n",
            "  'en' --> 11 times in the text\n",
            "  'y' --> 10 times in the text\n"
          ]
        }
      ]
    },
    {
      "cell_type": "markdown",
      "source": [
        "Hangman Game: Create a Python program that allows a user to play the game of Hangman. The program should randomly select a word from a predefined list, and the player must guess letters one at a time until they guess the word correctly or run out of attempts."
      ],
      "metadata": {
        "id": "1dVEEV8ajeaX"
      }
    },
    {
      "cell_type": "code",
      "source": [
        "from random import choice\n",
        "\n",
        "#List of words for game\n",
        "word_list = ['piano', 'guitar', 'singer', 'ball', 'adele', 'taylor', 'august', 'salt', 'air', 'door',\n",
        "'scarf', 'keys', 'ground','time', 'love', 'pulse', 'same', 'jokes', 'coffee', 'show',\n",
        "'shame', 'paper', 'rings', 'king', 'tears', 'style', 'dress', 'marron', 'castles', 'snow']\n",
        "\n",
        "#Auxiliary variables\n",
        "correct_letters = []\n",
        "incorrect_letters = []\n",
        "tries = 6\n",
        "correct_guess = 0\n",
        "game_end = False\n",
        "\n",
        "#Function for choosing a word from the word_list\n",
        "def choose_word(word_list):\n",
        "    chosen_word = choice(word_list)\n",
        "    unique_letters = len(set(chosen_word))\n",
        "    return chosen_word, unique_letters\n",
        "\n",
        "#Ask the user a letter and if not a valid letter is given, it indicates (ex. commas, points, numbers, etc)\n",
        "def ask_letter():\n",
        "    chosen_letter = ''\n",
        "    is_valid = False\n",
        "    alphabet = 'abcdefghijklmnopqrstuvwxyz'\n",
        "    while not is_valid:\n",
        "        chosen_letter = input('Type a letter: ').lower()\n",
        "        if chosen_letter in alphabet and len(chosen_letter) == 1:\n",
        "            is_valid = True\n",
        "        else:\n",
        "            print('You\\'ve not chosen a valid letter')\n",
        "    return chosen_letter\n",
        "\n",
        "#Shows tab for visual retroalimentation\n",
        "def show_new_tab(chosen_word):\n",
        "    hidden_list = []\n",
        "    for l in chosen_word:\n",
        "        if l in correct_letters:\n",
        "            hidden_list.append(l)\n",
        "        else:\n",
        "            hidden_list.append('-')\n",
        "    print(' '.join(hidden_list))\n",
        "\n",
        "#Checs if the letter is in the word to guess\n",
        "def check_letter(chosen_letter, hidden_word, lives, coincidences):\n",
        "    end = False\n",
        "\n",
        "    if chosen_letter in hidden_word and chosen_letter not in correct_letters:\n",
        "        correct_letters.append(chosen_letter)\n",
        "        coincidences += 1\n",
        "    elif chosen_letter in hidden_word and chosen_letter in hidden_word: #If a correct letter already given again, states it without decreasing a life\n",
        "        print('You\\'ve already found that letter, try with a different one')\n",
        "    else:\n",
        "        incorrect_letters.append(chosen_letter)\n",
        "        lives -= 1\n",
        "\n",
        "    if lives == 0: #Lose the game with lose() function\n",
        "        end = lose()\n",
        "    elif coincidences == unique_letters: #Wins the game with win() function\n",
        "        end = win(hidden_word)\n",
        "\n",
        "    return lives, end, coincidences\n",
        "\n",
        "#Losing the game\n",
        "def lose():\n",
        "    print('You\\'ve ran out of lives')\n",
        "    print('The hidden word was ' + word)\n",
        "    return True\n",
        "\n",
        "#Winning the game\n",
        "def win(discovered_word):\n",
        "    show_new_tab(discovered_word)\n",
        "    print('Congratulations, you\\'ve found the word!')\n",
        "    return True\n",
        "\n",
        "#Choose a word from word list for the game to execute\n",
        "word, unique_letters = choose_word(word_list)\n",
        "\n",
        "print('Hangman game')\n",
        "print('Choose letters in order to guess the word! You have limited attempts! \\n')\n",
        "\n",
        "#While loop to play until win or lose\n",
        "while not game_end:\n",
        "    print('\\n' + '*' * 20 + '\\n')\n",
        "    show_new_tab(word)\n",
        "    print('\\n')\n",
        "    print('Incorrect letters: ' + '-'.join(incorrect_letters))\n",
        "    print(f'Lives: {tries}')\n",
        "    print('\\n' + '*' * 20 + '\\n')\n",
        "    letter = ask_letter()\n",
        "    tries, ended, correct_guess = check_letter(letter, word, tries, correct_guess)\n",
        "    game_end = ended"
      ],
      "metadata": {
        "colab": {
          "base_uri": "https://localhost:8080/"
        },
        "id": "WJ6yHTC8gayY",
        "outputId": "24a5e825-fe75-48cc-8d17-739beaf9b409"
      },
      "execution_count": 1,
      "outputs": [
        {
          "output_type": "stream",
          "name": "stdout",
          "text": [
            "Hangman game\n",
            "Choose letters in order to guess the word! You have limited attempts! \n",
            "\n",
            "\n",
            "********************\n",
            "\n",
            "- - - -\n",
            "\n",
            "\n",
            "Incorrect letters: \n",
            "Lives: 6\n",
            "\n",
            "********************\n",
            "\n",
            "Type a letter: k\n",
            "\n",
            "********************\n",
            "\n",
            "- - - -\n",
            "\n",
            "\n",
            "Incorrect letters: k\n",
            "Lives: 5\n",
            "\n",
            "********************\n",
            "\n",
            "Type a letter: l\n",
            "\n",
            "********************\n",
            "\n",
            "- - l l\n",
            "\n",
            "\n",
            "Incorrect letters: k\n",
            "Lives: 5\n",
            "\n",
            "********************\n",
            "\n",
            "Type a letter: b\n",
            "\n",
            "********************\n",
            "\n",
            "b - l l\n",
            "\n",
            "\n",
            "Incorrect letters: k\n",
            "Lives: 5\n",
            "\n",
            "********************\n",
            "\n",
            "Type a letter: a\n",
            "b a l l\n",
            "Congratulations, you've found the word!\n"
          ]
        }
      ]
    },
    {
      "cell_type": "markdown",
      "source": [
        "Number Guessing Game: Create a program that generates a random number between 1 and 100, and then asks the user to guess the number. The program should provide hints to the user if the guessed number is greater or less than the target number, and keep asking for a new guess until the user guesses correctly."
      ],
      "metadata": {
        "id": "wQaqvuN3jjgl"
      }
    },
    {
      "cell_type": "code",
      "source": [
        "from random import choice\n",
        "\n",
        "#Beggining of game\n",
        "print(\"Guess the number\\n\")\n",
        "player_name = input('Type your name: ')\n",
        "random_number = randint(1,100) #Chose a random number between 1 and 100\n",
        "tries = 1\n",
        "\n",
        "print(f\"\"\"\\nHello {player_name}, lets play a game.\n",
        "I'm going to think in a number between 1 and 100 and you should guess it in (maximum) 8 tries. \"\"\")\n",
        "\n",
        "#While loop with 8 tries default\n",
        "while tries <= 8:\n",
        "    chosen_number = int(input('\\nGuess the number: '))\n",
        "    if chosen_number == random_number:\n",
        "        if tries == 1:\n",
        "            print(f'\\nCongratulations {player_name}, you\\'ve guessed the number first try :D') #First try win\n",
        "        else:\n",
        "            print(f'\\nCongratulations {player_name}, you\\'ve guessed the number in {tries} tries :)') #Regular win\n",
        "        break\n",
        "    elif tries == 8: #Game lost\n",
        "        pass\n",
        "    elif chosen_number not in range(1,101): #Number not in given range\n",
        "        print('The number given is not between the range from 1 to 100, please try again')\n",
        "    elif chosen_number > random_number: #Indicator/hint\n",
        "        print('The number given is greater than the number i\\'m thinking, please try again')\n",
        "    else: #Indicator/hint\n",
        "        print('The number given is smaller than the number i\\'m thinking, please try again')\n",
        "    tries += 1\n",
        "else:\n",
        "    print(f\"\\nBad luck {player_name}, the number was '{random_number}' :( , good luck next time\") #Lose message\n",
        ""
      ],
      "metadata": {
        "colab": {
          "base_uri": "https://localhost:8080/"
        },
        "id": "nayWi_4vigAf",
        "outputId": "2df2e9e0-2926-4b33-f2cd-b246cee2cc27"
      },
      "execution_count": 4,
      "outputs": [
        {
          "output_type": "stream",
          "name": "stdout",
          "text": [
            "Guess the number\n",
            "\n",
            "Type your name: victor\n",
            "\n",
            "Hello victor, lets play a game.\n",
            "I'm going to think in a number between 1 and 100 and you should guess it in (maximum) 8 tries. \n",
            "\n",
            "Guess the number: 10\n",
            "The number given is smaller than the number i'm thinking, please try again\n",
            "\n",
            "Guess the number: 50\n",
            "The number given is smaller than the number i'm thinking, please try again\n",
            "\n",
            "Guess the number: 60\n",
            "The number given is greater than the number i'm thinking, please try again\n",
            "\n",
            "Guess the number: 55\n",
            "The number given is greater than the number i'm thinking, please try again\n",
            "\n",
            "Guess the number: 58\n",
            "The number given is greater than the number i'm thinking, please try again\n",
            "\n",
            "Guess the number: 59\n",
            "The number given is greater than the number i'm thinking, please try again\n",
            "\n",
            "Guess the number: 52\n",
            "\n",
            "Congratulations victor, you've guessed the number in 7 tries :)\n"
          ]
        }
      ]
    }
  ]
}